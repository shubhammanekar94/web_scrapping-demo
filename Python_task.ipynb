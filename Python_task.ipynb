{
 "cells": [
  {
   "cell_type": "markdown",
   "id": "70c64010-9163-4cf7-896e-f82c263c4397",
   "metadata": {},
   "source": [
    "## Importing Libraries"
   ]
  },
  {
   "cell_type": "code",
   "execution_count": 1,
   "id": "fd91d696",
   "metadata": {},
   "outputs": [],
   "source": [
    "import pandas as pd              #for dataframe creation             \n",
    "from bs4 import BeautifulSoup    #for web scraping\n",
    "import requests                  #for downloading the webpage or making connection \n",
    "from tqdm import tqdm            #to check progress for loop"
   ]
  },
  {
   "cell_type": "markdown",
   "id": "265ec11e-ac0c-4f95-8e25-89f1b5475680",
   "metadata": {},
   "source": [
    "## Obtain product links from Boxspringbed Homepage\n",
    "- Total Base Boxspringbeds on the webpage : 17"
   ]
  },
  {
   "cell_type": "code",
   "execution_count": 2,
   "id": "0eb4bc45-3812-4df3-af74-7e6d8dba574c",
   "metadata": {},
   "outputs": [],
   "source": [
    "def product_base_links():\n",
    "    bed_base_link = 'https://www.moebelfreude.de/'\n",
    "    url = \"https://www.moebelfreude.de/boxspringbetten\"\n",
    "    response = requests.get(url)\n",
    "    page_content=response.text\n",
    "    doc=BeautifulSoup(page_content, 'html.parser')\n",
    "    #scrape the base boxspringbed URL\n",
    "    product_tags=doc.find_all('a', class_=\"image-link\")    \n",
    "    \n",
    "    #substring 'bett/' is searched to get the exact boxspringbed count of 17\n",
    "    substr = 'bett/'        \n",
    "    product_links = []\n",
    "    for i in range(len(product_tags)):\n",
    "        product_suffix = str(product_tags[i].get('href'))\n",
    "        if substr in product_suffix:\n",
    "            link = bed_base_link+product_suffix\n",
    "            product_links.append(link)\n",
    "    product_links = list(set(product_links))\n",
    "    \n",
    "    return product_links"
   ]
  },
  {
   "cell_type": "markdown",
   "id": "32ebc044-443a-4e43-be69-341ba0eb7118",
   "metadata": {},
   "source": [
    "## From the obtained homepage links, getting the available sizes, colours and hardness values"
   ]
  },
  {
   "cell_type": "code",
   "execution_count": 3,
   "id": "68a1a563-232b-44a3-9f8f-a67af7e7d7a9",
   "metadata": {},
   "outputs": [],
   "source": [
    "def get_link_blocks(doc):\n",
    "    available_chs = doc.find_all('span', class_=\"label label-variation\")\n",
    "    list_chs = [a.text for a in available_chs]\n",
    "    \n",
    "    substring = 'cm'\n",
    "    size_list = [chs for chs in list_chs if substring in chs]\n",
    "    \n",
    "    ch_list = [sh for sh in list_chs if sh not in size_list]\n",
    "    ch_list = [ch.replace(\"/\",\"-\").lower() for ch in ch_list]\n",
    "    \n",
    "    #separate color and hardness -->  obtained using replace, split and strip methods\n",
    "    substr = [' h2',' h3',' h2-h3']\n",
    "    new_ch = []\n",
    "    for ch in ch_list:\n",
    "        for s in substr:\n",
    "            if s in ch:\n",
    "                new_ch.append(ch.replace(s,('/'+s.strip())).strip().split('/'))\n",
    "    #new size list with '-' and proper format is obtained\n",
    "    new_size = []\n",
    "    for s in size_list:\n",
    "        link=('-'+s.replace('x','-x-').replace('cm','-cm-')).strip()\n",
    "        new_size.append(link)\n",
    "    \n",
    "    return new_ch, new_size"
   ]
  },
  {
   "cell_type": "markdown",
   "id": "55f385cb-2425-4548-9040-d117625c3179",
   "metadata": {},
   "source": [
    "## Preparing links by combinations of colours and sizes for each bed"
   ]
  },
  {
   "cell_type": "code",
   "execution_count": 4,
   "id": "243f5781-c33a-4723-92b3-e603f2770bab",
   "metadata": {},
   "outputs": [],
   "source": [
    "def get_item_urls(base_url,new_ch,new_size):\n",
    "    return_dict={'LINK':[],'SIZE':[],'HARDNESS':[],'COLOR':[]}\n",
    "\n",
    "    for ch in new_ch:\n",
    "        for s in new_size:\n",
    "# https://www.moebelfreude.de/bett/boxspringbett-bea+ - +anthrazit + -90-x-200-cm- +-h2\n",
    "            link = str(base_url+'-'+ch[0]+s+ch[1]).replace(' ','-').replace('--','-')\n",
    "            return_dict['LINK'].append(link)\n",
    "            return_dict['SIZE'].append(s)\n",
    "            return_dict['HARDNESS'].append(ch[1])\n",
    "            return_dict['COLOR'].append(ch[0])\n",
    "\n",
    "    return_df = pd.DataFrame.from_dict(return_dict)\n",
    "    return return_df"
   ]
  },
  {
   "cell_type": "markdown",
   "id": "a491934e-a0d8-4fc5-859e-13275bca3144",
   "metadata": {},
   "source": [
    "## Functions to obtain the Title name and Price"
   ]
  },
  {
   "cell_type": "code",
   "execution_count": 5,
   "id": "69f7346c-0ffd-41d6-94a3-8caebf4990d6",
   "metadata": {},
   "outputs": [],
   "source": [
    "#get title from the webpage\n",
    "def get_Title(doc):              \n",
    "    name_class = \"h1\"\n",
    "    name_tags = doc.find_all('div', class_=name_class)\n",
    "    title = name_tags[0].text\n",
    "    \n",
    "    return str(title)"
   ]
  },
  {
   "cell_type": "code",
   "execution_count": 6,
   "id": "ed5e1800-6f15-4671-8d90-19a4dbd7979b",
   "metadata": {},
   "outputs": [],
   "source": [
    "#get price from the respective url of each bed with its parameters\n",
    "def get_Price(doc):\n",
    "    price_class = 'price'\n",
    "    price_tags = doc.find_all('span', class_=price_class)\n",
    "    price = price_tags[0].text.strip()\n",
    "    \n",
    "    return str(price)"
   ]
  },
  {
   "cell_type": "markdown",
   "id": "66a26a3e-d40d-4f64-bdc9-7beb2e509fbd",
   "metadata": {},
   "source": [
    "## Main function to regulate the flow of the code\n",
    "\n",
    "- Step 1: Creation of base links from the boxspringbed home webpage\n",
    "- Step 2: Gathered following parameters: Title, Color, size, hardness for each obtained boxspringbed link \n",
    "- Step 3: Format the parameters to create the links for each individual bed with their size and colors\n",
    "- Step 4: Obtained price for each of them\n",
    "- Step 5: Compute the availability and create the resulting DataFrame\n",
    "- Step 6: Export the results to CSV"
   ]
  },
  {
   "cell_type": "code",
   "execution_count": 8,
   "id": "03ca12c8-59cd-40a0-8e6d-698b9de7b4cf",
   "metadata": {
    "tags": []
   },
   "outputs": [],
   "source": [
    "def main():\n",
    "    product_links = product_base_links()\n",
    "    result_dictionary={'LINK':[],'TITLE':[],'SIZE':[],'HARDNESS':[],'COLOR':[],'PRICE':[],'AVAILABILITY':[]}\n",
    "\n",
    "    for url in tqdm(product_links):\n",
    "\n",
    "        response = requests.get(url)\n",
    "        page_content=response.text\n",
    "        doc=BeautifulSoup(page_content, 'html.parser')\n",
    "        base_url = url\n",
    "        \n",
    "        title=get_Title(doc)\n",
    "        ch_list, size_list = get_link_blocks(doc)\n",
    "        \n",
    "        final_urls = get_item_urls(base_url,ch_list, size_list)\n",
    "\n",
    "        for i in range(len(final_urls)):\n",
    "            url = final_urls['LINK'].iloc[i]\n",
    "            response = requests.get(url)\n",
    "            response_code = response.status_code\n",
    "\n",
    "            if response_code in range(200,300):\n",
    "                page_content=response.text\n",
    "                doc=BeautifulSoup(page_content, 'html.parser')\n",
    "                result_dictionary['LINK'].append(url)\n",
    "                result_dictionary['TITLE'].append(title)\n",
    "                result_dictionary['SIZE'].append(str(final_urls['SIZE'].iloc[i]).replace('-',''))\n",
    "                result_dictionary['HARDNESS'].append(str(final_urls['HARDNESS'].iloc[i]).upper())\n",
    "                result_dictionary['COLOR'].append(final_urls['COLOR'].iloc[i])\n",
    "                result_dictionary['PRICE'].append(get_Price(doc))\n",
    "                result_dictionary['AVAILABILITY'].append('Y')\n",
    "            else:\n",
    "                page_content=response.text\n",
    "                doc=BeautifulSoup(page_content, 'html.parser')\n",
    "                result_dictionary['LINK'].append(url)\n",
    "                result_dictionary['TITLE'].append(title)\n",
    "                result_dictionary['SIZE'].append(str(final_urls['SIZE'].iloc[i]).replace('-',''))\n",
    "                result_dictionary['HARDNESS'].append(str(final_urls['HARDNESS'].iloc[i]).upper())\n",
    "                result_dictionary['COLOR'].append(final_urls['COLOR'].iloc[i])\n",
    "                result_dictionary['PRICE'].append('NA')\n",
    "                result_dictionary['AVAILABILITY'].append('N')`\n",
    "    \n",
    "    df = pd.DataFrame.from_dict(result_dictionary)\n",
    "    df=df.drop_duplicates(subset=['LINK'])\n",
    "    df.to_csv('Python_web_scraping_results.csv',index=False)\n",
    "    \n",
    "    print('CSV File Generated Successfully!')"
   ]
  },
  {
   "cell_type": "code",
   "execution_count": 9,
   "id": "31e591a6-7c4c-40d9-918e-4abd74c303a2",
   "metadata": {},
   "outputs": [
    {
     "name": "stderr",
     "output_type": "stream",
     "text": [
      "100%|██████████████████████████████████████████████████████████████████████████████████| 17/17 [14:44<00:00, 52.01s/it]"
     ]
    },
    {
     "name": "stdout",
     "output_type": "stream",
     "text": [
      "CSV File Generated Successfully!\n"
     ]
    },
    {
     "name": "stderr",
     "output_type": "stream",
     "text": [
      "\n"
     ]
    }
   ],
   "source": [
    "main()"
   ]
  }
 ],
 "metadata": {
  "kernelspec": {
   "display_name": "Python 3",
   "language": "python",
   "name": "python3"
  },
  "language_info": {
   "codemirror_mode": {
    "name": "ipython",
    "version": 3
   },
   "file_extension": ".py",
   "mimetype": "text/x-python",
   "name": "python",
   "nbconvert_exporter": "python",
   "pygments_lexer": "ipython3",
   "version": "3.8.8"
  }
 },
 "nbformat": 4,
 "nbformat_minor": 5
}
